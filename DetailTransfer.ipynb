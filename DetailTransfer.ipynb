{
  "nbformat": 4,
  "nbformat_minor": 0,
  "metadata": {
    "colab": {
      "name": "DetailTransfer.ipynb",
      "provenance": [],
      "authorship_tag": "ABX9TyPGzB+wqzOjpcHWsaWnbuMY",
      "include_colab_link": true
    },
    "kernelspec": {
      "name": "python3",
      "display_name": "Python 3"
    }
  },
  "cells": [
    {
      "cell_type": "markdown",
      "metadata": {
        "id": "view-in-github",
        "colab_type": "text"
      },
      "source": [
        "<a href=\"https://colab.research.google.com/github/faziletgokbudak/ESPCN-with-perceptual-loss/blob/master/DetailTransfer.ipynb\" target=\"_parent\"><img src=\"https://colab.research.google.com/assets/colab-badge.svg\" alt=\"Open In Colab\"/></a>"
      ]
    },
    {
      "cell_type": "code",
      "metadata": {
        "id": "EQ8GeCOq0s4O"
      },
      "source": [
        "import sys"
      ],
      "execution_count": null,
      "outputs": []
    },
    {
      "cell_type": "code",
      "metadata": {
        "id": "3QVhJCkCy8u2"
      },
      "source": [
        "import cv2\n",
        "import numpy as np\n",
        "import tensorflow as tf"
      ],
      "execution_count": null,
      "outputs": []
    },
    {
      "cell_type": "code",
      "metadata": {
        "id": "coXZ08Fe0D5Y"
      },
      "source": [
        "from google.colab.patches import cv2_imshow\n",
        "from PIL import Image, ImageOps"
      ],
      "execution_count": null,
      "outputs": []
    },
    {
      "cell_type": "code",
      "metadata": {
        "id": "cYmpdqtY0NL_"
      },
      "source": [
        "def compute_laplacian_pyramid(img_path, num_levels):\n",
        "  '''\n",
        "  Computes the Laplacian pyramid of an image in img_path with the number of \n",
        "  levels defined by num_levels.\n",
        "  '''\n",
        "  # Load the image\n",
        "  img = cv2.imread(img_path)\n",
        "  lower = img.copy()\n",
        "  # Create a Gaussian Pyramid\n",
        "  gaussian_pyr = [lower]\n",
        "\n",
        "  for i in range(num_levels):\n",
        "      lower = cv2.pyrDown(lower)\n",
        "      gaussian_pyr.append(lower)\n",
        "  \n",
        "  # Last level of Gaussian remains same in Laplacian\n",
        "  laplacian_top = gaussian_pyr[-1]\n",
        "  \n",
        "  # Compute a Laplacian Pyramid\n",
        "  laplacian_pyr = [laplacian_top]\n",
        "  for i in range(num_levels, 0, -1):\n",
        "      size = (gaussian_pyr[i-1].shape[1], gaussian_pyr[i-1].shape[0])\n",
        "      gaussian_expanded = cv2.pyrUp(gaussian_pyr[i], dstsize=size)\n",
        "      laplacian = cv2.subtract(gaussian_pyr[i-1], gaussian_expanded)\n",
        "      laplacian_pyr.append(laplacian)\n",
        "      cv2_imshow(laplacian)\n",
        "  return laplacian_pyr\n",
        "\n",
        "laplacian_pyr = compute_laplacian_pyramid('apple.jpg', 5)\n",
        "print(len(laplacian_pyr))"
      ],
      "execution_count": null,
      "outputs": []
    },
    {
      "cell_type": "code",
      "metadata": {
        "id": "5DNleHKU0yRH"
      },
      "source": [
        "#image instead of path\n",
        "#input output all tensors\n",
        "def extract_image_patches(image_path, patch_dims, stride):\n",
        "  '''\n",
        "  Extracts the image patches of dimension, patch_dims, with a stride of integer \n",
        "  number.\n",
        "  patch_dims: 2D list\n",
        "  '''\n",
        "  gray_image = tf.dtypes.cast(tf.convert_to_tensor(np.asarray(\n",
        "      ImageOps.grayscale(image))), dtype = tf.float32)\n",
        "\n",
        "  tensor_img = tf.expand_dims(gray_image, axis=0) #extra dim for batches\n",
        "  tensor_img2 = tf.expand_dims(tensor_img, axis=-1) #extra dim for color channels\n",
        "\n",
        "  patches = tf.image.extract_patches(images=tensor_img2,\n",
        "                          sizes=[1, patch_dims[0], patch_dims[1], 1],\n",
        "                          strides=[1, stride, stride, 1],\n",
        "                          rates=[1, 1, 1, 1],\n",
        "                          padding='VALID')\n",
        "  \n",
        "  squeezed_patches = tf.squeeze(patches, axis=0) \n",
        "\n",
        "  reshaped_squeezed_patches = tf.reshape(squeezed_patches, \n",
        "                                         [squeezed_patches.shape[0]*\n",
        "                                          squeezed_patches.shape[1],\n",
        "                                          patch_dims[0], patch_dims[1]])\n",
        "  return reshaped_squeezed_patches"
      ],
      "execution_count": null,
      "outputs": []
    },
    {
      "cell_type": "code",
      "metadata": {
        "id": "mNNLFvSq5iBt"
      },
      "source": [
        "def reconstruct_image_from_patches(patches, img_dims, stride):\n",
        "  '''\n",
        "  Combines the patches and saves the reconstructed image\n",
        "  '''\n",
        "  new_image = np.array(tf.zeros([img_dims[0], img_dims[1]], dtype=tf.dtypes.float32, name=None))\n",
        "  merging_map = np.array(tf.zeros([img_dims[0], img_dims[1]], dtype=tf.dtypes.float32, name=None))\n",
        "\n",
        "  count = 0\n",
        "  for i in range(0, img_dims[0]-patch_dims[0]+1, stride):\n",
        "    for j in range(0, img_dims[1]-patch_dims[1]+1, stride):\n",
        "      # check the guideline!!!!\n",
        "      new_image[i:i+patch_dims[0], j:j+patch_dims[1]] = new_image[i:i+patch_dims[0], j:j+patch_dims[1]] + reshaped_squeezed_patches[count][:][:]\n",
        "      merging_map[i:i+patch_dims[0], j:j+patch_dims[1]] += 1\n",
        "      count += 1\n",
        "      #print(count)\n",
        "\n",
        "  image_new = np.rint(np.divide(new_image, merging_map)) \n",
        "  im = Image.fromarray(((image_new)))\n",
        "  new_p = im.convert(\"L\").save('reconstructed.jpg')\n",
        "  new_image_tensor = tf.convert_to_tensor(new_image)\n",
        "  return new_image_tensor"
      ],
      "execution_count": null,
      "outputs": []
    }
  ]
}